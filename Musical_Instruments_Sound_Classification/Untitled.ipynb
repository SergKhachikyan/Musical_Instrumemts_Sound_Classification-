{
 "cells": [
  {
   "cell_type": "code",
   "execution_count": 1,
   "id": "80b3eb7f-3da1-4324-a228-eb37d50daf85",
   "metadata": {},
   "outputs": [],
   "source": [
    "import numpy as np\n",
    "import pandas as pd\n",
    "import matplotlib.pyplot as plt\n",
    "import seaborn as sns\n",
    "import matplotlib.image as mpimg\n",
    "import os\n",
    "import cv2"
   ]
  },
  {
   "cell_type": "code",
   "execution_count": 2,
   "id": "a2d2179e-5f67-49de-9851-2686cc5ab569",
   "metadata": {},
   "outputs": [],
   "source": [
    "x_train_BISLI = []\n",
    "y_train_BISLI = []\n",
    "\n",
    "folder_path = '../Musical_instruments_Sound_Classification_data/train/BISLI/'\n",
    "\n",
    "for filename in os.listdir(folder_path):\n",
    "    try:\n",
    "        image_path = os.path.join(folder_path, filename)\n",
    "        image = cv2.imread(image_path, cv2.IMREAD_GRAYSCALE)\n",
    "        image = cv2.resize(image, (250, 250))\n",
    "        image = image.reshape(250, 250, 1)\n",
    "        x_train_BISLI.append(image)\n",
    "        y_train_BISLI.append(0)\n",
    "    except Exception as e:\n",
    "        print(f\"Ошибка при обработке {filename}: {e}\")\n",
    "        continue\n",
    "\n",
    "x_train_BISLI = np.array(x_train_BISLI)\n",
    "y_train_BISLI = np.array(y_train_BISLI)"
   ]
  },
  {
   "cell_type": "code",
   "execution_count": 3,
   "id": "97663dd1-8522-4679-abc0-49d8e1bcd5b7",
   "metadata": {},
   "outputs": [],
   "source": [
    "x_train_BOM = []\n",
    "y_train_BOM = []\n",
    "\n",
    "folder_path = '../Musical_instruments_Sound_Classification_data/train/BOM/'\n",
    "\n",
    "for filename in os.listdir(folder_path):\n",
    "    try:\n",
    "        image_path = os.path.join(folder_path, filename)\n",
    "        image = cv2.imread(image_path, cv2.IMREAD_GRAYSCALE)\n",
    "        image = cv2.resize(image, (250, 250))\n",
    "        image = image.reshape(250, 250, 1)\n",
    "        x_train_BOM.append(image)\n",
    "        y_train_BOM.append(1)\n",
    "    except Exception as e:\n",
    "        print(f\"Ошибка при обработке {filename}: {e}\")\n",
    "        continue\n",
    "\n",
    "x_train_BOM = np.array(x_train_BOM)\n",
    "y_train_BOM = np.array(y_train_BOM)"
   ]
  },
  {
   "cell_type": "code",
   "execution_count": 4,
   "id": "b1c1c65b-2a44-49c8-9765-fc5c153e43b2",
   "metadata": {},
   "outputs": [
    {
     "data": {
      "text/plain": [
       "(375, 250, 250, 1)"
      ]
     },
     "execution_count": 4,
     "metadata": {},
     "output_type": "execute_result"
    }
   ],
   "source": [
    "x_train_BISLI.shape"
   ]
  },
  {
   "cell_type": "code",
   "execution_count": 5,
   "id": "a628e920-bdb7-44a6-9ba5-b7a4cc01c749",
   "metadata": {},
   "outputs": [],
   "source": [
    "x_train_KK = []\n",
    "y_train_KK = []\n",
    "\n",
    "folder_path = '../Musical_instruments_Sound_Classification_data/train/BOM/'\n",
    "\n",
    "for filename in os.listdir(folder_path):\n",
    "    try:\n",
    "        image_path = os.path.join(folder_path, filename)\n",
    "        image = cv2.imread(image_path, cv2.IMREAD_GRAYSCALE)\n",
    "        image = cv2.resize(image, (250, 250))\n",
    "        image = image.reshape(250, 250, 1)\n",
    "        x_train_KK.append(image)\n",
    "        y_train_KK.append(2)\n",
    "    except Exception as e:\n",
    "        print(f\"Ошибка при обработке {filename}: {e}\")\n",
    "        continue\n",
    "\n",
    "x_train_KK = np.array(x_train_KK)\n",
    "y_train_KK = np.array(y_train_KK)"
   ]
  },
  {
   "cell_type": "code",
   "execution_count": 6,
   "id": "ec7ec94f-77da-4162-a360-856486404742",
   "metadata": {},
   "outputs": [],
   "source": [
    "x_train_KS = []\n",
    "y_train_KS = []\n",
    "\n",
    "folder_path = '../Musical_instruments_Sound_Classification_data/train/BOM/'\n",
    "\n",
    "for filename in os.listdir(folder_path):\n",
    "    try:\n",
    "        image_path = os.path.join(folder_path, filename)\n",
    "        image = cv2.imread(image_path, cv2.IMREAD_GRAYSCALE)\n",
    "        image = cv2.resize(image, (250, 250))\n",
    "        image = image.reshape(250, 250, 1)\n",
    "        x_train_KS.append(image)\n",
    "        y_train_KS.append(3)\n",
    "    except Exception as e:\n",
    "        print(f\"Ошибка при обработке {filename}: {e}\")\n",
    "        continue\n",
    "\n",
    "x_train_KS = np.array(x_train_KS)\n",
    "y_train_KS = np.array(y_train_KS)"
   ]
  },
  {
   "cell_type": "code",
   "execution_count": 7,
   "id": "33a03112-728e-4941-9164-d81cf285ac60",
   "metadata": {},
   "outputs": [],
   "source": [
    "x_train_KYNSHAW = []\n",
    "y_train_KYNSHAW = []\n",
    "\n",
    "folder_path = '../Musical_instruments_Sound_Classification_data/train/BOM/'\n",
    "\n",
    "for filename in os.listdir(folder_path):\n",
    "    try:\n",
    "        image_path = os.path.join(folder_path, filename)\n",
    "        image = cv2.imread(image_path, cv2.IMREAD_GRAYSCALE)\n",
    "        image = cv2.resize(image, (250, 250))\n",
    "        image = image.reshape(250, 250, 1)\n",
    "        x_train_KYNSHAW.append(image)\n",
    "        y_train_KYNSHAW.append(4)\n",
    "    except Exception as e:\n",
    "        print(f\"Ошибка при обработке {filename}: {e}\")\n",
    "        continue\n",
    "\n",
    "x_train_KYNSHAW = np.array(x_train_KYNSHAW)\n",
    "y_train_KYNSHAW = np.array(y_train_KYNSHAW)"
   ]
  },
  {
   "cell_type": "code",
   "execution_count": 8,
   "id": "a262cf69-d50d-40d9-a0e6-cf8e9f916074",
   "metadata": {},
   "outputs": [],
   "source": [
    "x_train_PDIAH = []\n",
    "y_train_PDIAH = []\n",
    "\n",
    "folder_path = '../Musical_instruments_Sound_Classification_data/train/BOM/'\n",
    "\n",
    "for filename in os.listdir(folder_path):\n",
    "    try:\n",
    "        image_path = os.path.join(folder_path, filename)\n",
    "        image = cv2.imread(image_path, cv2.IMREAD_GRAYSCALE)\n",
    "        image = cv2.resize(image, (250, 250))\n",
    "        image = image.reshape(250, 250, 1)\n",
    "        x_train_PDIAH.append(image)\n",
    "        y_train_PDIAH.append(5)\n",
    "    except Exception as e:\n",
    "        print(f\"Ошибка при обработке {filename}: {e}\")\n",
    "        continue\n",
    "\n",
    "x_train_PDIAH = np.array(x_train_PDIAH)\n",
    "y_train_PDIAH = np.array(y_train_PDIAH)"
   ]
  },
  {
   "cell_type": "code",
   "execution_count": 9,
   "id": "84be6ad4-d9fd-46d0-b4ac-92bcd117ef61",
   "metadata": {},
   "outputs": [],
   "source": [
    "x_test_BISLI = []\n",
    "y_test_BISLI = []\n",
    "\n",
    "folder_path = '../Musical_instruments_Sound_Classification_data/train/BOM/'\n",
    "\n",
    "for filename in os.listdir(folder_path):\n",
    "    try:\n",
    "        image_path = os.path.join(folder_path, filename)\n",
    "        image = cv2.imread(image_path, cv2.IMREAD_GRAYSCALE)\n",
    "        image = cv2.resize(image, (250, 250))\n",
    "        image = image.reshape(250, 250, 1)\n",
    "        x_test_BISLI.append(image)\n",
    "        y_test_BISLI.append(0)\n",
    "    except Exception as e:\n",
    "        print(f\"Ошибка при обработке {filename}: {e}\")\n",
    "        continue\n",
    "\n",
    "x_test_BISLI = np.array(x_test_BISLI)\n",
    "y_test_BISLI = np.array(y_test_BISLI)"
   ]
  },
  {
   "cell_type": "code",
   "execution_count": 10,
   "id": "25a1b4b8-cb62-4114-a0eb-b43369e8862a",
   "metadata": {},
   "outputs": [],
   "source": [
    "x_test_BOM = []\n",
    "y_test_BOM = []\n",
    "\n",
    "folder_path = '../Musical_instruments_Sound_Classification_data/train/BOM/'\n",
    "\n",
    "for filename in os.listdir(folder_path):\n",
    "    try:\n",
    "        image_path = os.path.join(folder_path, filename)\n",
    "        image = cv2.imread(image_path, cv2.IMREAD_GRAYSCALE)\n",
    "        image = cv2.resize(image, (250, 250))\n",
    "        image = image.reshape(250, 250, 1)\n",
    "        x_test_BOM.append(image)\n",
    "        y_test_BOM.append(1)\n",
    "    except Exception as e:\n",
    "        print(f\"Ошибка при обработке {filename}: {e}\")\n",
    "        continue\n",
    "\n",
    "x_test_BOM = np.array(x_test_BOM)\n",
    "y_test_BOM = np.array(y_test_BOM)"
   ]
  },
  {
   "cell_type": "code",
   "execution_count": 11,
   "id": "1eb730e0-0d14-4bfc-98ca-a3e94ec7c768",
   "metadata": {},
   "outputs": [],
   "source": [
    "x_test_KK = []\n",
    "y_test_KK = []\n",
    "\n",
    "folder_path = '../Musical_instruments_Sound_Classification_data/train/BOM/'\n",
    "\n",
    "for filename in os.listdir(folder_path):\n",
    "    try:\n",
    "        image_path = os.path.join(folder_path, filename)\n",
    "        image = cv2.imread(image_path, cv2.IMREAD_GRAYSCALE)\n",
    "        image = cv2.resize(image, (250, 250))\n",
    "        image = image.reshape(250, 250, 1)\n",
    "        x_test_KK.append(image)\n",
    "        y_test_KK.append(2)\n",
    "    except Exception as e:\n",
    "        print(f\"Ошибка при обработке {filename}: {e}\")\n",
    "        continue\n",
    "\n",
    "x_test_KK = np.array(x_test_KK)\n",
    "y_test_KK = np.array(y_test_KK)"
   ]
  },
  {
   "cell_type": "code",
   "execution_count": 12,
   "id": "885f9c93-9266-4106-9cff-e61b0b4ff32d",
   "metadata": {},
   "outputs": [],
   "source": [
    "x_test_KS = []\n",
    "y_test_KS = []\n",
    "\n",
    "folder_path = '../Musical_instruments_Sound_Classification_data/train/BOM/'\n",
    "\n",
    "for filename in os.listdir(folder_path):\n",
    "    try:\n",
    "        image_path = os.path.join(folder_path, filename)\n",
    "        image = cv2.imread(image_path, cv2.IMREAD_GRAYSCALE)\n",
    "        image = cv2.resize(image, (250, 250))\n",
    "        image = image.reshape(250, 250, 1)\n",
    "        x_test_KS.append(image)\n",
    "        y_test_KS.append(3)\n",
    "    except Exception as e:\n",
    "        print(f\"Ошибка при обработке {filename}: {e}\")\n",
    "        continue\n",
    "\n",
    "x_test_KS = np.array(x_test_KS)\n",
    "y_test_KS = np.array(y_test_KS)"
   ]
  },
  {
   "cell_type": "code",
   "execution_count": 13,
   "id": "24faa06a-9226-4f44-8c1a-721e8875e256",
   "metadata": {},
   "outputs": [],
   "source": [
    "x_test_KYNSHAW = []\n",
    "y_test_KYNSHAW = []\n",
    "\n",
    "folder_path = '../Musical_instruments_Sound_Classification_data/train/BOM/'\n",
    "\n",
    "for filename in os.listdir(folder_path):\n",
    "    try:\n",
    "        image_path = os.path.join(folder_path, filename)\n",
    "        image = cv2.imread(image_path, cv2.IMREAD_GRAYSCALE)\n",
    "        image = cv2.resize(image, (250, 250))\n",
    "        image = image.reshape(250, 250, 1)\n",
    "        x_test_KYNSHAW.append(image)\n",
    "        y_test_KYNSHAW.append(4)\n",
    "    except Exception as e:\n",
    "        print(f\"Ошибка при обработке {filename}: {e}\")\n",
    "        continue\n",
    "\n",
    "x_test_KYNSHAW = np.array(x_test_KYNSHAW)\n",
    "y_test_KYNSHAW = np.array(y_test_KYNSHAW)"
   ]
  },
  {
   "cell_type": "code",
   "execution_count": 14,
   "id": "7e165c3a-ce89-448b-8660-586cbc00ebab",
   "metadata": {},
   "outputs": [],
   "source": [
    "x_test_PDIAH = []\n",
    "y_test_PDIAH = []\n",
    "\n",
    "folder_path = '../Musical_instruments_Sound_Classification_data/train/BOM/'\n",
    "\n",
    "for filename in os.listdir(folder_path):\n",
    "    try:\n",
    "        image_path = os.path.join(folder_path, filename)\n",
    "        image = cv2.imread(image_path, cv2.IMREAD_GRAYSCALE)\n",
    "        image = cv2.resize(image, (250, 250))\n",
    "        image = image.reshape(250, 250, 1)\n",
    "        x_test_PDIAH.append(image)\n",
    "        y_test_PDIAH.append(5)\n",
    "    except Exception as e:\n",
    "        print(f\"Ошибка при обработке {filename}: {e}\")\n",
    "        continue\n",
    "\n",
    "x_test_PDIAH = np.array(x_test_PDIAH)\n",
    "y_test_PDIAH = np.array(y_test_PDIAH)"
   ]
  },
  {
   "cell_type": "code",
   "execution_count": 15,
   "id": "822cc59b-a5d8-4af6-ba2c-33876bf896c5",
   "metadata": {},
   "outputs": [],
   "source": [
    "x_val_BISLI = []\n",
    "y_val_BISLI = []\n",
    "\n",
    "folder_path = '../Musical_instruments_Sound_Classification_data/train/BOM/'\n",
    "\n",
    "for filename in os.listdir(folder_path):\n",
    "    try:\n",
    "        image_path = os.path.join(folder_path, filename)\n",
    "        image = cv2.imread(image_path, cv2.IMREAD_GRAYSCALE)\n",
    "        image = cv2.resize(image, (250, 250))\n",
    "        image = image.reshape(250, 250, 1)\n",
    "        x_val_BISLI.append(image)\n",
    "        y_val_BISLI.append(0)\n",
    "    except Exception as e:\n",
    "        print(f\"Ошибка при обработке {filename}: {e}\")\n",
    "        continue\n",
    "\n",
    "x_val_BISLI = np.array(x_val_BISLI)\n",
    "y_val_BISLI = np.array(y_val_BISLI)"
   ]
  },
  {
   "cell_type": "code",
   "execution_count": 16,
   "id": "805b9266-3afe-4acf-b716-2bb1239c7dc7",
   "metadata": {},
   "outputs": [],
   "source": [
    "x_val_BOM = []\n",
    "y_val_BOM = []\n",
    "\n",
    "folder_path = '../Musical_instruments_Sound_Classification_data/train/BOM/'\n",
    "\n",
    "for filename in os.listdir(folder_path):\n",
    "    try:\n",
    "        image_path = os.path.join(folder_path, filename)\n",
    "        image = cv2.imread(image_path, cv2.IMREAD_GRAYSCALE)\n",
    "        image = cv2.resize(image, (250, 250))\n",
    "        image = image.reshape(250, 250, 1)\n",
    "        x_val_BOM.append(image)\n",
    "        y_val_BOM.append(1)\n",
    "    except Exception as e:\n",
    "        print(f\"Ошибка при обработке {filename}: {e}\")\n",
    "        continue\n",
    "\n",
    "x_val_BOM = np.array(x_val_BOM)\n",
    "y_val_BOM = np.array(y_val_BOM)"
   ]
  },
  {
   "cell_type": "code",
   "execution_count": 17,
   "id": "7ba14ca4-fd0a-4276-af75-b876aa9b17c5",
   "metadata": {},
   "outputs": [],
   "source": [
    "x_val_KK = []\n",
    "y_val_KK = []\n",
    "\n",
    "folder_path = '../Musical_instruments_Sound_Classification_data/train/BOM/'\n",
    "\n",
    "for filename in os.listdir(folder_path):\n",
    "    try:\n",
    "        image_path = os.path.join(folder_path, filename)\n",
    "        image = cv2.imread(image_path, cv2.IMREAD_GRAYSCALE)\n",
    "        image = cv2.resize(image, (250, 250))\n",
    "        image = image.reshape(250, 250, 1)\n",
    "        x_val_KK.append(image)\n",
    "        y_val_KK.append(2)\n",
    "    except Exception as e:\n",
    "        print(f\"Ошибка при обработке {filename}: {e}\")\n",
    "        continue\n",
    "\n",
    "x_val_KK = np.array(x_val_KK)\n",
    "y_val_KK = np.array(y_val_KK)"
   ]
  },
  {
   "cell_type": "code",
   "execution_count": 18,
   "id": "e59445fa-2a3b-480c-a3ff-fc7aa7c4ff26",
   "metadata": {},
   "outputs": [],
   "source": [
    "x_val_KS = []\n",
    "y_val_KS = []\n",
    "\n",
    "folder_path = '../Musical_instruments_Sound_Classification_data/train/BOM/'\n",
    "\n",
    "for filename in os.listdir(folder_path):\n",
    "    try:\n",
    "        image_path = os.path.join(folder_path, filename)\n",
    "        image = cv2.imread(image_path, cv2.IMREAD_GRAYSCALE)\n",
    "        image = cv2.resize(image, (250, 250))\n",
    "        image = image.reshape(250, 250, 1)\n",
    "        x_val_KS.append(image)\n",
    "        y_val_KS.append(3)\n",
    "    except Exception as e:\n",
    "        print(f\"Ошибка при обработке {filename}: {e}\")\n",
    "        continue\n",
    "\n",
    "x_val_KS = np.array(x_val_KS)\n",
    "y_val_KS = np.array(y_val_KS)"
   ]
  },
  {
   "cell_type": "code",
   "execution_count": 19,
   "id": "8acbe2bc-c3f0-4bfc-ae1c-8a8bfd5319db",
   "metadata": {},
   "outputs": [],
   "source": [
    "x_val_KYNSHAW = []\n",
    "y_val_KYNSHAW = []\n",
    "\n",
    "folder_path = '../Musical_instruments_Sound_Classification_data/train/BOM/'\n",
    "\n",
    "for filename in os.listdir(folder_path):\n",
    "    try:\n",
    "        image_path = os.path.join(folder_path, filename)\n",
    "        image = cv2.imread(image_path, cv2.IMREAD_GRAYSCALE)\n",
    "        image = cv2.resize(image, (250, 250))\n",
    "        image = image.reshape(250, 250, 1)\n",
    "        x_val_KYNSHAW.append(image)\n",
    "        y_val_KYNSHAW.append(4)\n",
    "    except Exception as e:\n",
    "        print(f\"Ошибка при обработке {filename}: {e}\")\n",
    "        continue\n",
    "\n",
    "x_val_KYNSHAW = np.array(x_val_KYNSHAW)\n",
    "y_val_KYNSHAW = np.array(y_val_KYNSHAW)"
   ]
  },
  {
   "cell_type": "code",
   "execution_count": 20,
   "id": "090dfb97-0811-4641-8ad9-290487e75035",
   "metadata": {},
   "outputs": [],
   "source": [
    "x_val_PDIAH = []\n",
    "y_val_PDIAH = []\n",
    "\n",
    "folder_path = '../Musical_instruments_Sound_Classification_data/train/BOM/'\n",
    "\n",
    "for filename in os.listdir(folder_path):\n",
    "    try:\n",
    "        image_path = os.path.join(folder_path, filename)\n",
    "        image = cv2.imread(image_path, cv2.IMREAD_GRAYSCALE)\n",
    "        image = cv2.resize(image, (250, 250))\n",
    "        image = image.reshape(250, 250, 1)\n",
    "        x_val_PDIAH.append(image)\n",
    "        y_val_PDIAH.append(5)\n",
    "    except Exception as e:\n",
    "        print(f\"Ошибка при обработке {filename}: {e}\")\n",
    "        continue\n",
    "\n",
    "x_val_PDIAH = np.array(x_val_PDIAH)\n",
    "y_val_PDIAH = np.array(y_val_PDIAH)"
   ]
  },
  {
   "cell_type": "code",
   "execution_count": 21,
   "id": "e52bc840-f04f-4322-974f-0d99d3dc8bdf",
   "metadata": {},
   "outputs": [],
   "source": [
    "x_val = np.concatenate((x_val_BISLI,x_val_BOM,x_val_KK,x_val_KS,x_val_KYNSHAW,x_val_PDIAH))\n",
    "y_val = np.concatenate((y_val_BISLI,y_val_BOM,y_val_KK,y_val_KS,y_val_KYNSHAW,y_val_PDIAH))\n",
    "y_train = np.concatenate((y_train_BISLI,y_train_BOM,y_train_KK,y_train_KS,y_train_KYNSHAW,y_train_PDIAH))\n",
    "x_train = np.concatenate((x_train_BISLI,x_train_BOM,x_train_KK,x_train_KS,x_train_KYNSHAW,x_train_PDIAH))"
   ]
  },
  {
   "cell_type": "code",
   "execution_count": 22,
   "id": "a448ea25-715b-46d9-8a5e-c3a438f7144d",
   "metadata": {},
   "outputs": [],
   "source": [
    "from keras.utils import to_categorical"
   ]
  },
  {
   "cell_type": "code",
   "execution_count": 23,
   "id": "40c57cd1-0f1b-4b1f-8d4a-d276e5623de1",
   "metadata": {},
   "outputs": [],
   "source": [
    "from keras.layers import Conv2D, MaxPooling2D, Flatten, Dense"
   ]
  },
  {
   "cell_type": "code",
   "execution_count": 24,
   "id": "e3f5d77d-a078-4cea-8c57-7bfbae8389eb",
   "metadata": {},
   "outputs": [],
   "source": [
    "y_val = to_categorical(y_val,num_classes = 6)\n",
    "y_train = to_categorical(y_train,num_classes = 6)"
   ]
  },
  {
   "cell_type": "code",
   "execution_count": 25,
   "id": "b4dbc3d9-8df3-489e-8c19-6a329c5789fa",
   "metadata": {},
   "outputs": [],
   "source": [
    "from keras.models import Sequential"
   ]
  },
  {
   "cell_type": "code",
   "execution_count": 26,
   "id": "415fbbfe-c089-49d6-8b13-9755bf6687ee",
   "metadata": {},
   "outputs": [
    {
     "name": "stderr",
     "output_type": "stream",
     "text": [
      "C:\\Users\\User\\Desktop\\ML_Working\\Musical_Instrumemts_Sound_Classification\\venv\\Lib\\site-packages\\keras\\src\\layers\\convolutional\\base_conv.py:107: UserWarning: Do not pass an `input_shape`/`input_dim` argument to a layer. When using Sequential models, prefer using an `Input(shape)` object as the first layer in the model instead.\n",
      "  super().__init__(activity_regularizer=activity_regularizer, **kwargs)\n"
     ]
    }
   ],
   "source": [
    "model = Sequential()\n",
    "\n",
    "model.add(Conv2D(filters=64, kernel_size=(3, 3), padding='same', activation='relu', input_shape=(250, 250, 1)))\n",
    "model.add(MaxPooling2D(pool_size=(2, 2)))\n",
    "\n",
    "model.add(Conv2D(filters=64, kernel_size=(3, 3), padding='same', activation='relu'))\n",
    "model.add(MaxPooling2D(pool_size=(2, 2)))\n",
    "\n",
    "model.add(Flatten())\n",
    "\n",
    "\n",
    "model.add(Dense(32, activation='relu'))\n",
    "model.add(Dense(16, activation='relu'))\n",
    "model.add(Dense(8, activation='relu'))\n",
    "model.add(Dense(6, activation='softmax'))"
   ]
  },
  {
   "cell_type": "code",
   "execution_count": 27,
   "id": "0e38975e-d19b-46fb-9aff-1a593817675b",
   "metadata": {},
   "outputs": [],
   "source": [
    "model.compile(optimizer='adam', loss='categorical_crossentropy', metrics=['accuracy'])"
   ]
  },
  {
   "cell_type": "code",
   "execution_count": 28,
   "id": "d7ac9708-7036-4748-b089-681e16d96187",
   "metadata": {},
   "outputs": [
    {
     "name": "stdout",
     "output_type": "stream",
     "text": [
      "Epoch 1/10\n",
      "\u001b[1m71/71\u001b[0m \u001b[32m━━━━━━━━━━━━━━━━━━━━\u001b[0m\u001b[37m\u001b[0m \u001b[1m148s\u001b[0m 2s/step - accuracy: 0.1993 - loss: 29.2507 - val_accuracy: 0.1667 - val_loss: 1.8948\n",
      "Epoch 2/10\n",
      "\u001b[1m71/71\u001b[0m \u001b[32m━━━━━━━━━━━━━━━━━━━━\u001b[0m\u001b[37m\u001b[0m \u001b[1m180s\u001b[0m 3s/step - accuracy: 0.2458 - loss: 1.5734 - val_accuracy: 0.1667 - val_loss: 1.8393\n",
      "Epoch 3/10\n",
      "\u001b[1m71/71\u001b[0m \u001b[32m━━━━━━━━━━━━━━━━━━━━\u001b[0m\u001b[37m\u001b[0m \u001b[1m179s\u001b[0m 3s/step - accuracy: 0.3370 - loss: 1.4098 - val_accuracy: 0.1667 - val_loss: 1.8768\n",
      "Epoch 4/10\n",
      "\u001b[1m71/71\u001b[0m \u001b[32m━━━━━━━━━━━━━━━━━━━━\u001b[0m\u001b[37m\u001b[0m \u001b[1m178s\u001b[0m 3s/step - accuracy: 0.3308 - loss: 1.4006 - val_accuracy: 0.1667 - val_loss: 1.9617\n",
      "Epoch 5/10\n",
      "\u001b[1m71/71\u001b[0m \u001b[32m━━━━━━━━━━━━━━━━━━━━\u001b[0m\u001b[37m\u001b[0m \u001b[1m178s\u001b[0m 3s/step - accuracy: 0.3435 - loss: 1.3823 - val_accuracy: 0.1667 - val_loss: 1.8633\n",
      "Epoch 6/10\n",
      "\u001b[1m71/71\u001b[0m \u001b[32m━━━━━━━━━━━━━━━━━━━━\u001b[0m\u001b[37m\u001b[0m \u001b[1m179s\u001b[0m 3s/step - accuracy: 0.3151 - loss: 1.4256 - val_accuracy: 0.1667 - val_loss: 1.9780\n",
      "Epoch 7/10\n",
      "\u001b[1m71/71\u001b[0m \u001b[32m━━━━━━━━━━━━━━━━━━━━\u001b[0m\u001b[37m\u001b[0m \u001b[1m179s\u001b[0m 3s/step - accuracy: 0.3520 - loss: 1.3833 - val_accuracy: 0.1667 - val_loss: 1.9288\n",
      "Epoch 8/10\n",
      "\u001b[1m71/71\u001b[0m \u001b[32m━━━━━━━━━━━━━━━━━━━━\u001b[0m\u001b[37m\u001b[0m \u001b[1m176s\u001b[0m 2s/step - accuracy: 0.3209 - loss: 1.3962 - val_accuracy: 0.1667 - val_loss: 2.0006\n",
      "Epoch 9/10\n",
      "\u001b[1m71/71\u001b[0m \u001b[32m━━━━━━━━━━━━━━━━━━━━\u001b[0m\u001b[37m\u001b[0m \u001b[1m181s\u001b[0m 3s/step - accuracy: 0.3289 - loss: 1.3864 - val_accuracy: 0.1667 - val_loss: 1.9610\n",
      "Epoch 10/10\n",
      "\u001b[1m71/71\u001b[0m \u001b[32m━━━━━━━━━━━━━━━━━━━━\u001b[0m\u001b[37m\u001b[0m \u001b[1m179s\u001b[0m 3s/step - accuracy: 0.3142 - loss: 1.3834 - val_accuracy: 0.1667 - val_loss: 1.9528\n"
     ]
    },
    {
     "data": {
      "text/plain": [
       "<keras.src.callbacks.history.History at 0x23b94ad9670>"
      ]
     },
     "execution_count": 28,
     "metadata": {},
     "output_type": "execute_result"
    }
   ],
   "source": [
    "model.fit(x_train,y_train, validation_data = (x_val,y_val), epochs = 10)"
   ]
  },
  {
   "cell_type": "code",
   "execution_count": 29,
   "id": "53110013-cffd-436b-9e4c-d90e77388786",
   "metadata": {},
   "outputs": [
    {
     "data": {
      "text/plain": [
       "[<matplotlib.lines.Line2D at 0x23ba6e54980>]"
      ]
     },
     "execution_count": 29,
     "metadata": {},
     "output_type": "execute_result"
    },
    {
     "data": {
      "image/png": "[encoded data removed]",
      "text/plain": [
       "<Figure size 640x480 with 1 Axes>"
      ]
     },
     "metadata": {},
     "output_type": "display_data"
    }
   ],
   "source": [
    "plt.plot(model.history.history['loss'])\n",
    "plt.plot(model.history.history['val_loss'])"
   ]
  },
  {
   "cell_type": "code",
   "execution_count": null,
   "id": "a5f31f8d-3c58-4256-973d-f512deb79b06",
   "metadata": {},
   "outputs": [],
   "source": []
  }
 ],
 "metadata": {
  "kernelspec": {
   "display_name": "Python 3 (ipykernel)",
   "language": "python",
   "name": "python3"
  },
  "language_info": {
   "codemirror_mode": {
    "name": "ipython",
    "version": 3
   },
   "file_extension": ".py",
   "mimetype": "text/x-python",
   "name": "python",
   "nbconvert_exporter": "python",
   "pygments_lexer": "ipython3",
   "version": "3.12.6"
  }
 },
 "nbformat": 4,
 "nbformat_minor": 5
}
